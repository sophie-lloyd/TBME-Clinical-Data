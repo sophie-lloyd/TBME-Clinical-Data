{
 "cells": [
  {
   "cell_type": "markdown",
   "id": "238b6acd-9ff4-42ae-8da4-8751185a4481",
   "metadata": {},
   "source": [
    "**Accessable data**\n",
    "\n",
    "- Case `data.case`\n",
    "- Category `data.category`\n",
    "- Cutpats `data.cutpats`\n",
    "- Longpats `data.longpats`\n",
    "- Magnitude `data.magnitude`\n",
    "- Phi `data.phase`\n",
    "- Reactance `data.reactance`\n",
    "- Resistance `data.resistance`\n",
    "- Sample `data.sample`\n",
    "- LesionAssessment `data.lesion_assessment`\n",
    "- LesionLoc `data.lesion_loc`"
   ]
  },
  {
   "cell_type": "code",
   "execution_count": 1,
   "id": "50f3e384-e78a-4315-9e15-474dd9885632",
   "metadata": {},
   "outputs": [],
   "source": [
    "import numpy as np\n",
    "\n",
    "from util import Data_mat"
   ]
  },
  {
   "cell_type": "code",
   "execution_count": 2,
   "id": "deec4a5e-4f62-453c-b7bd-1603e79e5bbc",
   "metadata": {},
   "outputs": [],
   "source": [
    "path_mat = \"data/mat/TBME_case_data.mat\"\n",
    "lesion_path = \"data/mat/TBME_Data_lesion_info.csv\""
   ]
  },
  {
   "cell_type": "code",
   "execution_count": 3,
   "id": "4f908432-a34e-4425-a96e-ae97862f53e2",
   "metadata": {},
   "outputs": [],
   "source": [
    "data = Data_mat(path_mat, lesion_path, prints=False)"
   ]
  },
  {
   "cell_type": "code",
   "execution_count": null,
   "id": "8731bb8d-94f8-44ac-a0fc-6f710cfc706e",
   "metadata": {},
   "outputs": [],
   "source": []
  },
  {
   "cell_type": "markdown",
   "id": "17a38d36-9473-414c-a888-dec3a66d4c91",
   "metadata": {},
   "source": [
    "___"
   ]
  }
 ],
 "metadata": {
  "kernelspec": {
   "display_name": "Python 3 (ipykernel)",
   "language": "python",
   "name": "python3"
  },
  "language_info": {
   "codemirror_mode": {
    "name": "ipython",
    "version": 3
   },
   "file_extension": ".py",
   "mimetype": "text/x-python",
   "name": "python",
   "nbconvert_exporter": "python",
   "pygments_lexer": "ipython3",
   "version": "3.12.2"
  }
 },
 "nbformat": 4,
 "nbformat_minor": 5
}
