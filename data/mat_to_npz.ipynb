{
 "cells": [
  {
   "cell_type": "code",
   "execution_count": 1,
   "id": "2f96d88d-fd43-4056-a937-8dc8d1845841",
   "metadata": {},
   "outputs": [],
   "source": [
    "import os\n",
    "\n",
    "os.chdir(\"../\")"
   ]
  },
  {
   "cell_type": "markdown",
   "id": "6e9214e8-e75b-42d0-ab95-ca23c613b3e1",
   "metadata": {},
   "source": [
    "# Export the `.mat` data to `.npz` files\n",
    "\n",
    "**Accessable data**\n",
    "\n",
    "- Case `data.case`\n",
    "- Category `data.category`\n",
    "- Cutpats `data.cutpats`\n",
    "- Longpats `data.longpats`\n",
    "- Magnitude `data.magnitude`\n",
    "- Phi `data.phase`\n",
    "- Reactance `data.reactance`\n",
    "- Resistance `data.resistance`\n",
    "- Sample `data.sample`\n",
    "- LesionAssessment `data.lesion_assessment`\n",
    "- LesionLoc `data.lesion_loc`"
   ]
  },
  {
   "cell_type": "code",
   "execution_count": 2,
   "id": "75f7395e-381a-4779-9c9a-89e1e1363dc7",
   "metadata": {},
   "outputs": [],
   "source": [
    "import numpy as np\n",
    "\n",
    "from util import Data_mat"
   ]
  },
  {
   "cell_type": "code",
   "execution_count": 3,
   "id": "a5e67bb6-f3f7-4afb-8092-0444c64b850d",
   "metadata": {},
   "outputs": [],
   "source": [
    "path_mat = \"data/mat/TBME_case_data.mat\"\n",
    "lesion_path = \"data/mat/TBME_Data_lesion_info.csv\""
   ]
  },
  {
   "cell_type": "code",
   "execution_count": 4,
   "id": "ee57b20c-a155-4be1-801e-3f9fdce23832",
   "metadata": {},
   "outputs": [],
   "source": [
    "data = Data_mat(path_mat, lesion_path, prints=False)"
   ]
  },
  {
   "cell_type": "code",
   "execution_count": 5,
   "id": "cc8f2444-c802-4828-85d9-60af9b37c591",
   "metadata": {},
   "outputs": [],
   "source": [
    "for idx, c in enumerate(data.case):\n",
    "    assert data.case[idx] == c\n",
    "    np.savez(\n",
    "        \"data/npz/data_sample_{0:04d}.npz\".format(idx),\n",
    "        idx=idx,\n",
    "        Case=data.case[idx],\n",
    "        Category=data.category[idx],\n",
    "        Cutpats=data.cutpats[idx],\n",
    "        Longpats=data.longpats[idx],\n",
    "        Magnitude=data.magnitude[idx],\n",
    "        Phi=data.phase[idx],\n",
    "        Reactance=data.reactance[idx],\n",
    "        Resistance=data.resistance[idx],\n",
    "        Sample=data.sample[idx],\n",
    "        LesionAssessment=data.lesion_assessment[idx],\n",
    "        LesionLoc=data.lesion_loc[idx],\n",
    "    )"
   ]
  },
  {
   "cell_type": "markdown",
   "id": "bcfda3bf-a039-4e00-81e6-1cd3040013a3",
   "metadata": {},
   "source": [
    "___"
   ]
  }
 ],
 "metadata": {
  "kernelspec": {
   "display_name": "Python 3 (ipykernel)",
   "language": "python",
   "name": "python3"
  },
  "language_info": {
   "codemirror_mode": {
    "name": "ipython",
    "version": 3
   },
   "file_extension": ".py",
   "mimetype": "text/x-python",
   "name": "python",
   "nbconvert_exporter": "python",
   "pygments_lexer": "ipython3",
   "version": "3.12.2"
  }
 },
 "nbformat": 4,
 "nbformat_minor": 5
}
